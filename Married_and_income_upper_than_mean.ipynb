{
  "cells": [
    {
      "cell_type": "markdown",
      "metadata": {
        "id": "view-in-github",
        "colab_type": "text"
      },
      "source": [
        "<a href=\"https://colab.research.google.com/github/fereshtehdehkhoda/Example16-Married-and-income-upper-than-mean/blob/main/Married_and_income_upper_than_mean.ipynb\" target=\"_parent\"><img src=\"https://colab.research.google.com/assets/colab-badge.svg\" alt=\"Open In Colab\"/></a>"
      ]
    },
    {
      "cell_type": "markdown",
      "id": "97c8296b-9dc1-4687-b8bd-e08c425bb34d",
      "metadata": {
        "id": "97c8296b-9dc1-4687-b8bd-e08c425bb34d"
      },
      "source": [
        "# Married and income upper than mean"
      ]
    },
    {
      "cell_type": "code",
      "execution_count": null,
      "id": "ec6a5184-90fb-4743-8b36-9375344337d2",
      "metadata": {
        "id": "ec6a5184-90fb-4743-8b36-9375344337d2"
      },
      "outputs": [],
      "source": [
        "#داده‌های مدیریت ارتباط با مشتریان (CRM) را که در فایل sample_data.csv قرار دارد، در نظر بگیرید.\n",
        "#چند درصد مشتریان، افراد متاهل با درآمد بالای سطح متوسط هستند"
      ]
    },
    {
      "cell_type": "code",
      "execution_count": null,
      "id": "ac6091b6-e946-44ac-90ca-945c5b496929",
      "metadata": {
        "id": "ac6091b6-e946-44ac-90ca-945c5b496929"
      },
      "outputs": [],
      "source": [
        "import pandas as pd\n",
        "import numpy as np"
      ]
    },
    {
      "cell_type": "code",
      "execution_count": null,
      "id": "ff6d089a-ced1-40bc-be36-087661f6b2c8",
      "metadata": {
        "id": "ff6d089a-ced1-40bc-be36-087661f6b2c8"
      },
      "outputs": [],
      "source": [
        "data=pd.read_csv('sample_data.csv')"
      ]
    },
    {
      "cell_type": "code",
      "execution_count": null,
      "id": "4c7c07e4-8889-49c2-a6a3-a9d4b081b2b3",
      "metadata": {
        "id": "4c7c07e4-8889-49c2-a6a3-a9d4b081b2b3",
        "outputId": "1ac0828e-3692-4197-c43f-e39056998c54"
      },
      "outputs": [
        {
          "data": {
            "text/html": [
              "<div>\n",
              "<style scoped>\n",
              "    .dataframe tbody tr th:only-of-type {\n",
              "        vertical-align: middle;\n",
              "    }\n",
              "\n",
              "    .dataframe tbody tr th {\n",
              "        vertical-align: top;\n",
              "    }\n",
              "\n",
              "    .dataframe thead th {\n",
              "        text-align: right;\n",
              "    }\n",
              "</style>\n",
              "<table border=\"1\" class=\"dataframe\">\n",
              "  <thead>\n",
              "    <tr style=\"text-align: right;\">\n",
              "      <th></th>\n",
              "      <th>id</th>\n",
              "      <th>sex</th>\n",
              "      <th>is_employed</th>\n",
              "      <th>income</th>\n",
              "      <th>marital_status</th>\n",
              "      <th>health_insurance</th>\n",
              "      <th>housing_type</th>\n",
              "      <th>recent_move</th>\n",
              "      <th>num_vehicles</th>\n",
              "      <th>age</th>\n",
              "      <th>state_of_res</th>\n",
              "    </tr>\n",
              "  </thead>\n",
              "  <tbody>\n",
              "    <tr>\n",
              "      <th>0</th>\n",
              "      <td>2068</td>\n",
              "      <td>F</td>\n",
              "      <td>False</td>\n",
              "      <td>11300.0</td>\n",
              "      <td>Married</td>\n",
              "      <td>True</td>\n",
              "      <td>Homeowner free and clear</td>\n",
              "      <td>False</td>\n",
              "      <td>2.0</td>\n",
              "      <td>49.0</td>\n",
              "      <td>Michigan</td>\n",
              "    </tr>\n",
              "    <tr>\n",
              "      <th>1</th>\n",
              "      <td>2073</td>\n",
              "      <td>F</td>\n",
              "      <td>False</td>\n",
              "      <td>0.0</td>\n",
              "      <td>Married</td>\n",
              "      <td>True</td>\n",
              "      <td>Rented</td>\n",
              "      <td>True</td>\n",
              "      <td>3.0</td>\n",
              "      <td>40.0</td>\n",
              "      <td>Florida</td>\n",
              "    </tr>\n",
              "    <tr>\n",
              "      <th>2</th>\n",
              "      <td>2848</td>\n",
              "      <td>M</td>\n",
              "      <td>True</td>\n",
              "      <td>45000.0</td>\n",
              "      <td>Never Married</td>\n",
              "      <td>False</td>\n",
              "      <td>Rented</td>\n",
              "      <td>True</td>\n",
              "      <td>3.0</td>\n",
              "      <td>29.0</td>\n",
              "      <td>Georgia</td>\n",
              "    </tr>\n",
              "    <tr>\n",
              "      <th>3</th>\n",
              "      <td>5641</td>\n",
              "      <td>M</td>\n",
              "      <td>True</td>\n",
              "      <td>20000.0</td>\n",
              "      <td>Never Married</td>\n",
              "      <td>False</td>\n",
              "      <td>Occupied with no rent</td>\n",
              "      <td>False</td>\n",
              "      <td>0.0</td>\n",
              "      <td>22.0</td>\n",
              "      <td>New Mexico</td>\n",
              "    </tr>\n",
              "    <tr>\n",
              "      <th>4</th>\n",
              "      <td>6369</td>\n",
              "      <td>F</td>\n",
              "      <td>True</td>\n",
              "      <td>42000.0</td>\n",
              "      <td>Never Married</td>\n",
              "      <td>True</td>\n",
              "      <td>Rented</td>\n",
              "      <td>True</td>\n",
              "      <td>1.0</td>\n",
              "      <td>31.0</td>\n",
              "      <td>Florida</td>\n",
              "    </tr>\n",
              "  </tbody>\n",
              "</table>\n",
              "</div>"
            ],
            "text/plain": [
              "     id sex is_employed   income marital_status  health_insurance  \\\n",
              "0  2068   F       False  11300.0        Married              True   \n",
              "1  2073   F       False      0.0        Married              True   \n",
              "2  2848   M        True  45000.0  Never Married             False   \n",
              "3  5641   M        True  20000.0  Never Married             False   \n",
              "4  6369   F        True  42000.0  Never Married              True   \n",
              "\n",
              "               housing_type recent_move  num_vehicles   age state_of_res  \n",
              "0  Homeowner free and clear       False           2.0  49.0     Michigan  \n",
              "1                    Rented        True           3.0  40.0      Florida  \n",
              "2                    Rented        True           3.0  29.0      Georgia  \n",
              "3     Occupied with no rent       False           0.0  22.0   New Mexico  \n",
              "4                    Rented        True           1.0  31.0      Florida  "
            ]
          },
          "execution_count": 6,
          "metadata": {},
          "output_type": "execute_result"
        }
      ],
      "source": [
        "data.head()"
      ]
    },
    {
      "cell_type": "code",
      "execution_count": null,
      "id": "4cca0b5b-ff2d-4636-8dac-6f5d80ad3a40",
      "metadata": {
        "id": "4cca0b5b-ff2d-4636-8dac-6f5d80ad3a40",
        "outputId": "fa380c4c-2f17-4eb1-ce74-c59e9108e0c0"
      },
      "outputs": [
        {
          "name": "stdout",
          "output_type": "stream",
          "text": [
            "<class 'pandas.core.frame.DataFrame'>\n",
            "RangeIndex: 500 entries, 0 to 499\n",
            "Data columns (total 11 columns):\n",
            " #   Column            Non-Null Count  Dtype  \n",
            "---  ------            --------------  -----  \n",
            " 0   id                500 non-null    int64  \n",
            " 1   sex               500 non-null    object \n",
            " 2   is_employed       435 non-null    object \n",
            " 3   income            493 non-null    float64\n",
            " 4   marital_status    500 non-null    object \n",
            " 5   health_insurance  500 non-null    bool   \n",
            " 6   housing_type      466 non-null    object \n",
            " 7   recent_move       466 non-null    object \n",
            " 8   num_vehicles      466 non-null    float64\n",
            " 9   age               500 non-null    float64\n",
            " 10  state_of_res      500 non-null    object \n",
            "dtypes: bool(1), float64(3), int64(1), object(6)\n",
            "memory usage: 39.7+ KB\n"
          ]
        }
      ],
      "source": [
        "data.info()"
      ]
    },
    {
      "cell_type": "code",
      "execution_count": null,
      "id": "6834fc46-7582-4c69-8006-778723131a18",
      "metadata": {
        "id": "6834fc46-7582-4c69-8006-778723131a18",
        "outputId": "851999b9-d648-4823-fa16-5a290c44550d"
      },
      "outputs": [
        {
          "data": {
            "text/plain": [
              "20.08113590263692"
            ]
          },
          "execution_count": 16,
          "metadata": {},
          "output_type": "execute_result"
        }
      ],
      "source": [
        "np.sum((data['marital_status']=='Married') & (data['income']>np.mean(data['income'])))/np.sum(data['income'].notnull())*100"
      ]
    }
  ],
  "metadata": {
    "kernelspec": {
      "display_name": "Python 3 (ipykernel)",
      "language": "python",
      "name": "python3"
    },
    "language_info": {
      "codemirror_mode": {
        "name": "ipython",
        "version": 3
      },
      "file_extension": ".py",
      "mimetype": "text/x-python",
      "name": "python",
      "nbconvert_exporter": "python",
      "pygments_lexer": "ipython3",
      "version": "3.12.4"
    },
    "colab": {
      "provenance": [],
      "include_colab_link": true
    }
  },
  "nbformat": 4,
  "nbformat_minor": 5
}